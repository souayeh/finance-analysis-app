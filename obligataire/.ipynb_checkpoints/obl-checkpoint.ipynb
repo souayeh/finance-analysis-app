{
 "cells": [
  {
   "cell_type": "code",
   "execution_count": 1,
   "id": "c52fd0b0-8bfd-4dd9-b1bc-28d8eaf8525e",
   "metadata": {},
   "outputs": [
    {
     "name": "stdout",
     "output_type": "stream",
     "text": [
      "Latest file URL: https://www.cmf.tn/sites/default/files/pdfs/statistiques/opcvm/physionomie_des_opcvm-fevrier_2025.xlsx\n",
      "Downloaded: latest_opcvm.xlsx\n"
     ]
    }
   ],
   "source": [
    "import requests\n",
    "from bs4 import BeautifulSoup\n",
    "import os\n",
    "\n",
    "# Define the website URL\n",
    "url = \"https://www.cmf.tn/statistiques-opcvm-\"\n",
    "\n",
    "# Send a request to fetch the webpage content\n",
    "response = requests.get(url)\n",
    "if response.status_code == 200:\n",
    "    # Parse the HTML\n",
    "    soup = BeautifulSoup(response.text, \"html.parser\")\n",
    "\n",
    "    # Find all links on the page\n",
    "    links = soup.find_all(\"a\")\n",
    "\n",
    "    # Filter links to get the most recent Excel file (assuming .xls or .xlsx files)\n",
    "    file_links = [\n",
    "        link[\"href\"] for link in links if \"href\" in link.attrs and (\".xls\" in link[\"href\"] or \".xlsx\" in link[\"href\"])\n",
    "    ]\n",
    "\n",
    "    if file_links:\n",
    "        latest_file_url = file_links[0]  # The first link should be the most recent file\n",
    "\n",
    "        # Ensure the full URL is correct (handle relative paths)\n",
    "        if not latest_file_url.startswith(\"http\"):\n",
    "            latest_file_url = \"https://www.cmf.tn\" + latest_file_url\n",
    "\n",
    "        print(\"Latest file URL:\", latest_file_url)\n",
    "\n",
    "        # Download the file\n",
    "        file_name = \"latest_opcvm.xlsx\"\n",
    "        response = requests.get(latest_file_url)\n",
    "        with open(file_name, \"wb\") as file:\n",
    "            file.write(response.content)\n",
    "\n",
    "        print(f\"Downloaded: {file_name}\")\n",
    "    else:\n",
    "        print(\"No Excel file found.\")\n",
    "else:\n",
    "    print(\"Failed to fetch the webpage.\")"
   ]
  },
  {
   "cell_type": "code",
   "execution_count": 2,
   "id": "868aa6fe-1ab6-42b9-857c-79b0ae9a9a0b",
   "metadata": {},
   "outputs": [
    {
     "name": "stdout",
     "output_type": "stream",
     "text": [
      "✅ Process completed. Cleaned file saved: cleaned_opcvm.xlsx\n",
      "                    DENOMINATION    Taux_1    Taux_2    Taux_3\n",
      "0                  TUNISIE SICAV  6.345132  0.986486  6.066825\n",
      "1                SICAV RENDEMENT  0.751509  1.029661  6.339193\n",
      "2  UNION FINANCIERE ALYSSA SICAV  0.474068  1.032368  6.356291\n",
      "3            AMEN PREMIÈRE SICAV  0.292975  0.905767  5.559160\n",
      "4    PLACEMENT OBLIGATAIRE SICAV  0.398322  1.070557  6.597732\n"
     ]
    }
   ],
   "source": [
    "import pandas as pd\n",
    "# Step 2: Load the Excel file\n",
    "df = pd.read_excel(file_name)\n",
    "\n",
    "# Step 3: Clean the dataset\n",
    "df_cleaned = df.iloc[3:].reset_index(drop=True)  # Skip the first few empty rows\n",
    "mixte_index = df_cleaned[df_cleaned.apply(lambda row: row.astype(str).str.contains(\"OPCVM MIXTES\", case=False, na=False)).any(axis=1)].index\n",
    "if not mixte_index.empty:\n",
    "  # Keep only the data above the first occurrence of \"OPCVM MIXTES\"\n",
    "  df_cleaned = df.loc[:mixte_index[0]-1]\n",
    "\n",
    "df_cleaned = df_cleaned.rename(columns={\n",
    "  df_cleaned.columns[1]: \"DENOMINATION\",\n",
    "  df_cleaned.columns[14]: \"VL_Latest\",\n",
    "  df_cleaned.columns[15]: \"VL_31_12_2024\",\n",
    "  df_cleaned.columns[16]: \"VL_31_12_2023\"\n",
    "})\n",
    "\n",
    "# Keep only relevant columns\n",
    "df_cleaned = df_cleaned[[\"DENOMINATION\", \"VL_31_12_2023\", \"VL_31_12_2024\", \"VL_Latest\"]]\n",
    "df_cleaned = df_cleaned.dropna().reset_index(drop=True)\n",
    "\n",
    "# Convert to numeric values\n",
    "df_cleaned[[\"VL_31_12_2023\", \"VL_31_12_2024\", \"VL_Latest\"]] = df_cleaned[\n",
    "  [\"VL_31_12_2023\", \"VL_31_12_2024\", \"VL_Latest\"]\n",
    "].apply(pd.to_numeric, errors='coerce')\n",
    "\n",
    "# Step 4: Calculate rendement rates\n",
    "df_cleaned[\"Taux_1\"] = ((df_cleaned[\"VL_31_12_2024\"] - df_cleaned[\"VL_31_12_2023\"]) / df_cleaned[\"VL_31_12_2023\"]) * 100\n",
    "df_cleaned[\"Taux_2\"] = ((df_cleaned[\"VL_Latest\"] - df_cleaned[\"VL_31_12_2024\"]) / df_cleaned[\"VL_31_12_2024\"]) * 100\n",
    "df_cleaned[\"Taux_3\"] = ((1 + df_cleaned[\"Taux_2\"] / 100) ** 6 - 1) * 100\n",
    "\n",
    "# Step 5: Save cleaned data\n",
    "output_file = \"cleaned_opcvm.xlsx\"\n",
    "df_cleaned[[\"DENOMINATION\", \"Taux_1\", \"Taux_2\", \"Taux_3\"]].to_excel(output_file, index=False)\n",
    "\n",
    "print(\"✅ Process completed. Cleaned file saved:\", output_file)\n",
    "\n",
    "print(df_cleaned[[\"DENOMINATION\", \"Taux_1\", \"Taux_2\", \"Taux_3\"]].head())"
   ]
  },
  {
   "cell_type": "code",
   "execution_count": 3,
   "id": "f4e16211-e2d1-4c03-92f1-2b0c6c8ed10d",
   "metadata": {},
   "outputs": [
    {
     "name": "stdout",
     "output_type": "stream",
     "text": [
      "Overwriting app.py\n"
     ]
    }
   ],
   "source": [
    "%%writefile app.py\n",
    "import streamlit as st\n",
    "from datetime import datetime\n",
    "import pandas as pd\n",
    "from openpyxl import Workbook\n",
    "from openpyxl.styles import Font, Alignment, PatternFill\n",
    "\n",
    "# Charger le fichier OPCVM nettoyé\n",
    "file_path = \"cleaned_opcvm.xlsx\"\n",
    "df_cleaned = pd.read_excel(file_path)\n",
    "\n",
    "# Assurer la catégorisation en FCP ou SICAV\n",
    "df_cleaned[\"Type\"] = df_cleaned[\"DENOMINATION\"].apply(lambda x: \"SICAV\" if \"SICAV\" in str(x).upper() else \"FCP\")\n",
    "\n",
    "# Sélection des Top 3 FCP et SICAV pour 2024 basés sur \"Taux_1\" (Rendement 2024)\n",
    "top_3_fcp_2024 = df_cleaned[df_cleaned[\"Type\"] == \"FCP\"].nlargest(3, \"Taux_1\")[[\"DENOMINATION\", \"Taux_1\"]]\n",
    "top_3_sicav_2024 = df_cleaned[df_cleaned[\"Type\"] == \"SICAV\"].nlargest(3, \"Taux_1\")[[\"DENOMINATION\", \"Taux_1\"]]\n",
    "\n",
    "# Sélection des Top 3 FCP et SICAV pour 2025 basés sur \"Taux_3\" (Estimation)\n",
    "top_3_fcp_2025 = df_cleaned[df_cleaned[\"Type\"] == \"FCP\"].nlargest(3, \"Taux_3\")[[\"DENOMINATION\", \"Taux_3\"]]\n",
    "top_3_sicav_2025 = df_cleaned[df_cleaned[\"Type\"] == \"SICAV\"].nlargest(3, \"Taux_3\")[[\"DENOMINATION\", \"Taux_3\"]]\n",
    "\n",
    "# Appliquer des styles aux tableaux\n",
    "def surligner_top(df):\n",
    "    return df.style.applymap(lambda x: \"background-color: #FFC300; font-weight: bold;\" if isinstance(x, (int, float)) else \"\")\n",
    "\n",
    "# Configuration Streamlit\n",
    "st.set_page_config(page_title=\"Recommandations d'investissement OPCVM\", layout=\"wide\")\n",
    "\n",
    "st.title(\"📊 Système de Recommandation d'Investissement OPCVM obligataire\")\n",
    "st.markdown(\"### 🔎 Découvrez les meilleures opportunités d'investissement pour 2024 & 2025 !\")\n",
    "\n",
    "# Affichage des meilleures opportunités pour 2024\n",
    "st.markdown(\"## 🏆 Meilleurs investissements pour 2024\")\n",
    "\n",
    "col1, col2 = st.columns(2)\n",
    "with col1:\n",
    "    st.subheader(\"🏅 Top 3 **FCP**\")\n",
    "    st.dataframe(surligner_top(top_3_fcp_2024))\n",
    "\n",
    "with col2:\n",
    "    st.subheader(\"🏅 Top 3 **SICAV**\")\n",
    "    st.dataframe(surligner_top(top_3_sicav_2024))\n",
    "\n",
    "date_du_jour = datetime.today().strftime(\"%d %B %Y\")\n",
    "\n",
    "# Explication pour 2025\n",
    "st.markdown(f\"\"\"\n",
    "## 🚀 Meilleurs investissements pour 2025 (Estimation)\n",
    "📅 **Nous sommes le {date_du_jour}** : L'année 2025 n'est pas encore terminée, ces rendements sont donc **des estimations basées sur les tendances actuelles**.\n",
    "\"\"\")\n",
    "\n",
    "col3, col4 = st.columns(2)\n",
    "with col3:\n",
    "    st.subheader(\"🔮 Top 3 **FCP**\")\n",
    "    st.dataframe(surligner_top(top_3_fcp_2025))\n",
    "\n",
    "with col4:\n",
    "    st.subheader(\"🔮 Top 3 **SICAV**\")\n",
    "    st.dataframe(surligner_top(top_3_sicav_2025))"
   ]
  },
  {
   "cell_type": "code",
   "execution_count": 5,
   "id": "abacf5cc-530b-47bf-90b5-5b89e6155828",
   "metadata": {},
   "outputs": [
    {
     "name": "stdout",
     "output_type": "stream",
     "text": [
      "Authtoken saved to configuration file: C:\\Users\\ahmed\\AppData\\Local/ngrok/ngrok.yml\n"
     ]
    }
   ],
   "source": [
    "!ngrok authtoken 2tId6AZPa0MRMELphsZMiVls6j5_6zeNcQ3ZX8MMAR3g4gm1X"
   ]
  },
  {
   "cell_type": "code",
   "execution_count": 6,
   "id": "e2378d23-5a86-4570-b470-a11a4ccf588f",
   "metadata": {},
   "outputs": [
    {
     "name": "stdout",
     "output_type": "stream",
     "text": [
      "🌐 Open your Streamlit Dashboard here: NgrokTunnel: \"https://4de3-102-154-182-161.ngrok-free.app\" -> \"http://localhost:8501\"\n"
     ]
    },
    {
     "name": "stderr",
     "output_type": "stream",
     "text": [
      "t=2025-03-04T10:54:41+0100 lvl=warn msg=\"failed to open private leg\" id=46f4b3f0a9ea privaddr=localhost:8501 err=\"dial tcp [::1]:8501: connectex: No connection could be made because the target machine actively refused it.\"\n",
      "t=2025-03-04T10:54:42+0100 lvl=warn msg=\"failed to open private leg\" id=c5529a8c63a9 privaddr=localhost:8501 err=\"dial tcp [::1]:8501: connectex: No connection could be made because the target machine actively refused it.\"\n",
      "t=2025-03-04T10:59:20+0100 lvl=warn msg=\"failed to open private leg\" id=3a6a73f6d48c privaddr=localhost:8501 err=\"dial tcp [::1]:8501: connectex: No connection could be made because the target machine actively refused it.\"\n",
      "t=2025-03-04T10:59:20+0100 lvl=warn msg=\"failed to open private leg\" id=807c475395f2 privaddr=localhost:8501 err=\"dial tcp [::1]:8501: connectex: No connection could be made because the target machine actively refused it.\"\n",
      "t=2025-03-04T10:59:22+0100 lvl=warn msg=\"failed to open private leg\" id=dd6dab27eb01 privaddr=localhost:8501 err=\"dial tcp [::1]:8501: connectex: No connection could be made because the target machine actively refused it.\"\n",
      "t=2025-03-04T10:59:22+0100 lvl=warn msg=\"failed to open private leg\" id=fa748060ab6a privaddr=localhost:8501 err=\"dial tcp [::1]:8501: connectex: No connection could be made because the target machine actively refused it.\"\n",
      "t=2025-03-04T10:59:24+0100 lvl=warn msg=\"failed to open private leg\" id=d6bcc5434b5f privaddr=localhost:8501 err=\"dial tcp [::1]:8501: connectex: No connection could be made because the target machine actively refused it.\"\n",
      "t=2025-03-04T10:59:24+0100 lvl=warn msg=\"failed to open private leg\" id=911936a2cda7 privaddr=localhost:8501 err=\"dial tcp [::1]:8501: connectex: No connection could be made because the target machine actively refused it.\"\n",
      "t=2025-03-04T10:59:27+0100 lvl=warn msg=\"failed to open private leg\" id=ebad502973ca privaddr=localhost:8501 err=\"dial tcp [::1]:8501: connectex: No connection could be made because the target machine actively refused it.\"\n",
      "t=2025-03-04T10:59:27+0100 lvl=warn msg=\"failed to open private leg\" id=78f6c480a731 privaddr=localhost:8501 err=\"dial tcp [::1]:8501: connectex: No connection could be made because the target machine actively refused it.\"\n",
      "t=2025-03-04T10:59:27+0100 lvl=warn msg=\"failed to open private leg\" id=9a069023e50c privaddr=localhost:8501 err=\"dial tcp [::1]:8501: connectex: No connection could be made because the target machine actively refused it.\"\n",
      "t=2025-03-04T10:59:28+0100 lvl=warn msg=\"failed to open private leg\" id=844b29a951ae privaddr=localhost:8501 err=\"dial tcp [::1]:8501: connectex: No connection could be made because the target machine actively refused it.\"\n"
     ]
    }
   ],
   "source": [
    "from pyngrok import ngrok\n",
    "import os\n",
    "\n",
    "\n",
    "# Start Streamlit in the background\n",
    "os.system(\"streamlit run app.py &\")\n",
    "\n",
    "# Create a public link\n",
    "public_url = ngrok.connect(\"http://localhost:8501\")\n",
    "print(f\"🌐 Open your Streamlit Dashboard here: {public_url}\")"
   ]
  },
  {
   "cell_type": "code",
   "execution_count": null,
   "id": "1ad37699-4b00-47aa-9790-5f17b249d7bc",
   "metadata": {},
   "outputs": [],
   "source": []
  }
 ],
 "metadata": {
  "kernelspec": {
   "display_name": "Python 3 (ipykernel)",
   "language": "python",
   "name": "python3"
  },
  "language_info": {
   "codemirror_mode": {
    "name": "ipython",
    "version": 3
   },
   "file_extension": ".py",
   "mimetype": "text/x-python",
   "name": "python",
   "nbconvert_exporter": "python",
   "pygments_lexer": "ipython3",
   "version": "3.11.9"
  }
 },
 "nbformat": 4,
 "nbformat_minor": 5
}
