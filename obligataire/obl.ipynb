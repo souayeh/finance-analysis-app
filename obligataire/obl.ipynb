{
 "cells": [
  {
   "cell_type": "code",
   "execution_count": 1,
   "id": "c52fd0b0-8bfd-4dd9-b1bc-28d8eaf8525e",
   "metadata": {},
   "outputs": [
    {
     "name": "stdout",
     "output_type": "stream",
     "text": [
      "Latest file URL: https://www.cmf.tn/sites/default/files/pdfs/statistiques/opcvm/physionomie_des_opcvm-fevrier_2025.xlsx\n",
      "Downloaded: latest_opcvm.xlsx\n"
     ]
    }
   ],
   "source": [
    "import requests\n",
    "from bs4 import BeautifulSoup\n",
    "import os\n",
    "\n",
    "# Define the website URL\n",
    "url = \"https://www.cmf.tn/statistiques-opcvm-\"\n",
    "\n",
    "# Send a request to fetch the webpage content\n",
    "response = requests.get(url)\n",
    "if response.status_code == 200:\n",
    "    # Parse the HTML\n",
    "    soup = BeautifulSoup(response.text, \"html.parser\")\n",
    "\n",
    "    # Find all links on the page\n",
    "    links = soup.find_all(\"a\")\n",
    "\n",
    "    # Filter links to get the most recent Excel file (assuming .xls or .xlsx files)\n",
    "    file_links = [\n",
    "        link[\"href\"] for link in links if \"href\" in link.attrs and (\".xls\" in link[\"href\"] or \".xlsx\" in link[\"href\"])\n",
    "    ]\n",
    "\n",
    "    if file_links:\n",
    "        latest_file_url = file_links[0]  # The first link should be the most recent file\n",
    "\n",
    "        # Ensure the full URL is correct (handle relative paths)\n",
    "        if not latest_file_url.startswith(\"http\"):\n",
    "            latest_file_url = \"https://www.cmf.tn\" + latest_file_url\n",
    "\n",
    "        print(\"Latest file URL:\", latest_file_url)\n",
    "\n",
    "        # Download the file\n",
    "        file_name = \"latest_opcvm.xlsx\"\n",
    "        response = requests.get(latest_file_url)\n",
    "        with open(file_name, \"wb\") as file:\n",
    "            file.write(response.content)\n",
    "\n",
    "        print(f\"Downloaded: {file_name}\")\n",
    "    else:\n",
    "        print(\"No Excel file found.\")\n",
    "else:\n",
    "    print(\"Failed to fetch the webpage.\")"
   ]
  },
  {
   "cell_type": "code",
   "execution_count": 2,
   "id": "868aa6fe-1ab6-42b9-857c-79b0ae9a9a0b",
   "metadata": {},
   "outputs": [
    {
     "name": "stdout",
     "output_type": "stream",
     "text": [
      "✅ Process completed. Cleaned file saved: cleaned_opcvm.xlsx\n",
      "                    DENOMINATION    Taux_1    Taux_2    Taux_3\n",
      "0                  TUNISIE SICAV  6.345132  0.986486  6.066825\n",
      "1                SICAV RENDEMENT  0.751509  1.029661  6.339193\n",
      "2  UNION FINANCIERE ALYSSA SICAV  0.474068  1.032368  6.356291\n",
      "3            AMEN PREMIÈRE SICAV  0.292975  0.905767  5.559160\n",
      "4    PLACEMENT OBLIGATAIRE SICAV  0.398322  1.070557  6.597732\n"
     ]
    }
   ],
   "source": [
    "import pandas as pd\n",
    "# Step 2: Load the Excel file\n",
    "df = pd.read_excel(file_name)\n",
    "\n",
    "# Step 3: Clean the dataset\n",
    "df_cleaned = df.iloc[3:].reset_index(drop=True)  # Skip the first few empty rows\n",
    "mixte_index = df_cleaned[df_cleaned.apply(lambda row: row.astype(str).str.contains(\"OPCVM MIXTES\", case=False, na=False)).any(axis=1)].index\n",
    "if not mixte_index.empty:\n",
    "  # Keep only the data above the first occurrence of \"OPCVM MIXTES\"\n",
    "  df_cleaned = df.loc[:mixte_index[0]-1]\n",
    "\n",
    "df_cleaned = df_cleaned.rename(columns={\n",
    "  df_cleaned.columns[1]: \"DENOMINATION\",\n",
    "  df_cleaned.columns[14]: \"VL_Latest\",\n",
    "  df_cleaned.columns[15]: \"VL_31_12_2024\",\n",
    "  df_cleaned.columns[16]: \"VL_31_12_2023\"\n",
    "})\n",
    "\n",
    "# Keep only relevant columns\n",
    "df_cleaned = df_cleaned[[\"DENOMINATION\", \"VL_31_12_2023\", \"VL_31_12_2024\", \"VL_Latest\"]]\n",
    "df_cleaned = df_cleaned.dropna().reset_index(drop=True)\n",
    "\n",
    "# Convert to numeric values\n",
    "df_cleaned[[\"VL_31_12_2023\", \"VL_31_12_2024\", \"VL_Latest\"]] = df_cleaned[\n",
    "  [\"VL_31_12_2023\", \"VL_31_12_2024\", \"VL_Latest\"]\n",
    "].apply(pd.to_numeric, errors='coerce')\n",
    "\n",
    "# Step 4: Calculate rendement rates\n",
    "df_cleaned[\"Taux_1\"] = ((df_cleaned[\"VL_31_12_2024\"] - df_cleaned[\"VL_31_12_2023\"]) / df_cleaned[\"VL_31_12_2023\"]) * 100\n",
    "df_cleaned[\"Taux_2\"] = ((df_cleaned[\"VL_Latest\"] - df_cleaned[\"VL_31_12_2024\"]) / df_cleaned[\"VL_31_12_2024\"]) * 100\n",
    "df_cleaned[\"Taux_3\"] = ((1 + df_cleaned[\"Taux_2\"] / 100) ** 6 - 1) * 100\n",
    "\n",
    "# Step 5: Save cleaned data\n",
    "output_file = \"cleaned_opcvm.xlsx\"\n",
    "df_cleaned[[\"DENOMINATION\", \"Taux_1\", \"Taux_2\", \"Taux_3\"]].to_excel(output_file, index=False)\n",
    "\n",
    "print(\"✅ Process completed. Cleaned file saved:\", output_file)\n",
    "\n",
    "print(df_cleaned[[\"DENOMINATION\", \"Taux_1\", \"Taux_2\", \"Taux_3\"]].head())"
   ]
  },
  {
   "cell_type": "code",
   "execution_count": null,
   "id": "36239688-2571-4db7-999b-e10541bab05c",
   "metadata": {},
   "outputs": [],
   "source": []
  }
 ],
 "metadata": {
  "kernelspec": {
   "display_name": "Python 3 (ipykernel)",
   "language": "python",
   "name": "python3"
  },
  "language_info": {
   "codemirror_mode": {
    "name": "ipython",
    "version": 3
   },
   "file_extension": ".py",
   "mimetype": "text/x-python",
   "name": "python",
   "nbconvert_exporter": "python",
   "pygments_lexer": "ipython3",
   "version": "3.11.9"
  }
 },
 "nbformat": 4,
 "nbformat_minor": 5
}
