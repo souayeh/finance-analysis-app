{
 "cells": [
  {
   "cell_type": "code",
   "execution_count": 1,
   "id": "b11db35a-f16b-4a98-92d6-eec95b2665e9",
   "metadata": {},
   "outputs": [],
   "source": [
    "import requests\n",
    "from bs4 import BeautifulSoup\n",
    "import fitz  # PyMuPDF for PDF processing\n",
    "import csv\n",
    "import os\n",
    "import fitz  # PyMuPDF"
   ]
  },
  {
   "cell_type": "code",
   "execution_count": 2,
   "id": "03532652-1a25-48c1-8e3b-eb442d6fce54",
   "metadata": {},
   "outputs": [],
   "source": [
    "# ----------------- CONFIGURATION -----------------\n",
    "BASE_URL = \"https://www.tunisievaleurs.com/\"\n",
    "PDF_DIR = \"pdf\"\n",
    "TXT_DIR = \"txt\"\n",
    "CSV_DIR = \"csv\"\n",
    "PDF_FILENAME = os.path.join(PDF_DIR, \"Stock_Guide_Marche_Principal.pdf\")\n",
    "TXT_FILE = os.path.join(TXT_DIR, \"stockgfr.txt\")\n",
    "NAMES_FILE = os.path.join(TXT_DIR, \"names.txt\")\n",
    "ALL_FILE = os.path.join(TXT_DIR, \"all.txt\")\n",
    "SECTORS_FILE = os.path.join(TXT_DIR, \"sectors.txt\")\n",
    "CSV_FILE = os.path.join(CSV_DIR, \"companies_sectors.csv\")\n",
    "\n",
    "# Ensure directories exist\n",
    "os.makedirs(PDF_DIR, exist_ok=True)\n",
    "os.makedirs(TXT_DIR, exist_ok=True)\n",
    "os.makedirs(CSV_DIR, exist_ok=True)"
   ]
  },
  {
   "cell_type": "code",
   "execution_count": 12,
   "id": "03ab53d3-44ed-46f6-adb4-185df9950984",
   "metadata": {},
   "outputs": [],
   "source": [
    "# ----------------- STEP 1: DOWNLOAD PDF -----------------\n",
    "def get_pdf_link():\n",
    "    \"\"\"Finds the PDF link for 'Stock Guide du Marché Principal'.\"\"\"\n",
    "    response = requests.get(BASE_URL)\n",
    "    soup = BeautifulSoup(response.text, 'html.parser')\n",
    "\n",
    "    for link in soup.find_all('a', href=True):\n",
    "        if \"Stock Guide du Marché Principal\" in link.text:\n",
    "            pdf_link = link['href']\n",
    "            return pdf_link if pdf_link.startswith(\"http\") else BASE_URL + pdf_link\n",
    "    return None\n",
    "\n",
    "def download_pdf(pdf_url):\n",
    "    \"\"\"Downloads the PDF and saves it.\"\"\"\n",
    "    response = requests.get(pdf_url)\n",
    "    with open(PDF_FILENAME, \"wb\") as file:\n",
    "        file.write(response.content)\n",
    "    print(f\"✅ PDF downloaded successfully: {PDF_FILENAME}\")"
   ]
  },
  {
   "cell_type": "code",
   "execution_count": 4,
   "id": "d9d15e0e-5593-4069-baaf-b5c462491f78",
   "metadata": {},
   "outputs": [],
   "source": [
    "# Define the rectangle (bounding box) in PDF points\n",
    "x_min, x_max = 36.86, 45.70\n",
    "y_min, y_max = 100.78, 784.80\n",
    "\n",
    "def extract_text_from_pdf():\n",
    "    \"\"\"Extracts text from a specific region in the PDF and saves it as a TXT file.\"\"\"\n",
    "    doc = fitz.open(PDF_FILENAME)\n",
    "    extracted_text = []\n",
    "\n",
    "    for page in doc:\n",
    "        blocks = page.get_text(\"blocks\")  # Extract text as blocks\n",
    "\n",
    "        for block in blocks:\n",
    "            x0, y0, x1, y1, text, *_ = block  # Unpack the block data\n",
    "\n",
    "            # Check if the text block is within the defined rectangle\n",
    "            if (x_min <= x0 <= x_max) and (y_min <= y0 <= y_max):\n",
    "                extracted_text.append(text.strip())  # Strip to clean empty lines\n",
    "\n",
    "    # Save extracted text to file\n",
    "    with open(TXT_FILE, \"w\", encoding=\"utf-8\") as f:\n",
    "        f.write(\"\\n\".join(extracted_text))\n",
    "\n",
    "    print(f\"✅ Text extracted and saved: {TXT_FILE}\")"
   ]
  },
  {
   "cell_type": "code",
   "execution_count": 5,
   "id": "5533ac30-fc01-4c5e-ae20-c62fab075d20",
   "metadata": {},
   "outputs": [],
   "source": [
    "# ----------------- STEP 3: EXTRACT SECTOR NAMES -----------------\n",
    "def extract_sectors():\n",
    "    \"\"\"Extracts sector names based on specific patterns and saves them.\"\"\"\n",
    "    with open(TXT_FILE, \"r\", encoding=\"utf-8\") as f:\n",
    "        lines = f.readlines()\n",
    "\n",
    "    sectors = []\n",
    "    for i in range(len(lines) - 1):\n",
    "        current_line = lines[i].strip()\n",
    "        next_line = lines[i + 1].strip()\n",
    "\n",
    "        if (\n",
    "            current_line \n",
    "            and not any(char.isdigit() for char in current_line) \n",
    "            and next_line \n",
    "            and any(char.isdigit() for char in next_line) \n",
    "            and any(char.isupper() for char in current_line)\n",
    "        ):\n",
    "            sectors.append(current_line)\n",
    "\n",
    "    with open(NAMES_FILE, \"w\", encoding=\"utf-8\") as f:\n",
    "        f.write(\"\\n\".join(sectors))\n",
    "\n",
    "    print(f\"✅ Sectors extracted and saved: {NAMES_FILE}\")"
   ]
  },
  {
   "cell_type": "code",
   "execution_count": 6,
   "id": "cfa5213d-d72d-46b6-94ea-ea68b935bbef",
   "metadata": {},
   "outputs": [],
   "source": [
    "# ----------------- STEP 4: FILTER LINES WITH CAPITAL LETTERS -----------------\n",
    "def filter_lines_with_capitals():\n",
    "    \"\"\"Filters lines that contain at least one capital letter and saves them.\"\"\"\n",
    "    with open(TXT_FILE, \"r\", encoding=\"utf-8\") as f:\n",
    "        lines = [line for line in f if any(char.isupper() for char in line)]\n",
    "\n",
    "    with open(ALL_FILE, \"w\", encoding=\"utf-8\") as f:\n",
    "        f.writelines(lines)\n",
    "\n",
    "    print(f\"✅ Filtered text saved: {ALL_FILE}\")"
   ]
  },
  {
   "cell_type": "code",
   "execution_count": 7,
   "id": "5d6e2330-31c1-4f70-8d34-d3fbc96631ea",
   "metadata": {},
   "outputs": [],
   "source": [
    "# ----------------- STEP 5: EXTRACT COMPANY NAMES -----------------\n",
    "def extract_company_names():\n",
    "    \"\"\"Extracts company names by removing sector names from the list.\"\"\"\n",
    "    with open(ALL_FILE, \"r\", encoding=\"utf-8\") as f1, open(NAMES_FILE, \"r\", encoding=\"utf-8\") as f2:\n",
    "        file1_lines = set(line.strip() for line in f1.readlines())\n",
    "        file2_lines = set(line.strip() for line in f2.readlines())\n",
    "\n",
    "    unique_lines = file1_lines - file2_lines  # Companies = all - sectors\n",
    "\n",
    "    with open(SECTORS_FILE, \"w\", encoding=\"utf-8\") as f_out:\n",
    "        f_out.write(\"\\n\".join(unique_lines))\n",
    "\n",
    "    print(f\"✅ Unique companies extracted and saved: {SECTORS_FILE}\")"
   ]
  },
  {
   "cell_type": "code",
   "execution_count": 8,
   "id": "53b7656e-46a5-451c-b8a7-63ee137fa7bf",
   "metadata": {},
   "outputs": [],
   "source": [
    "# ----------------- STEP 6: CREATE CSV FILE -----------------\n",
    "def create_csv():\n",
    "    \"\"\"Creates a CSV file mapping companies to sectors.\"\"\"\n",
    "    with open(SECTORS_FILE, \"r\", encoding=\"utf-8\") as f:\n",
    "        sector_names = set(line.strip() for line in f if line.strip())\n",
    "\n",
    "    company_sector_mapping = {}\n",
    "\n",
    "    with open(ALL_FILE, \"r\", encoding=\"utf-8\") as f:\n",
    "        current_sector = None\n",
    "\n",
    "        for line in f:\n",
    "            line = line.strip()\n",
    "\n",
    "            if line in sector_names:\n",
    "                current_sector = line\n",
    "            elif line and current_sector:\n",
    "                company_sector_mapping[line] = current_sector\n",
    "\n",
    "    with open(CSV_FILE, \"w\", newline=\"\", encoding=\"utf-8\") as csvfile:\n",
    "        writer = csv.writer(csvfile)\n",
    "        writer.writerow([\"VALEUR\", \"SECTOR\"])\n",
    "\n",
    "        for company, sector in company_sector_mapping.items():\n",
    "            writer.writerow([company, sector])\n",
    "\n",
    "    print(f\"✅ CSV file created: {CSV_FILE}\")"
   ]
  },
  {
   "cell_type": "code",
   "execution_count": 9,
   "id": "080d2512-9c3f-4d72-a22b-74b2ca7bbf2b",
   "metadata": {},
   "outputs": [],
   "source": [
    "# ----------------- MAIN EXECUTION -----------------\n",
    "def main():\n",
    "    pdf_url = get_pdf_link()\n",
    "    if pdf_url:\n",
    "        download_pdf(pdf_url)\n",
    "        extract_text_from_pdf()\n",
    "        extract_sectors()\n",
    "        filter_lines_with_capitals()\n",
    "        extract_company_names()\n",
    "        create_csv()\n",
    "        print(\"🎉 Process completed successfully!\")\n",
    "    else:\n",
    "        print(\"❌ No PDF link found.\")"
   ]
  },
  {
   "cell_type": "code",
   "execution_count": 13,
   "id": "783d4d9b-0dd6-49df-b1f5-d315137c2fc4",
   "metadata": {},
   "outputs": [
    {
     "name": "stdout",
     "output_type": "stream",
     "text": [
      "✅ PDF downloaded successfully: pdf\\Stock_Guide_Marche_Principal.pdf\n",
      "✅ Text extracted and saved: txt\\stockgfr.txt\n",
      "✅ Sectors extracted and saved: txt\\names.txt\n",
      "✅ Filtered text saved: txt\\all.txt\n",
      "✅ Unique companies extracted and saved: txt\\sectors.txt\n",
      "✅ CSV file created: csv\\companies_sectors.csv\n",
      "🎉 Process completed successfully!\n"
     ]
    }
   ],
   "source": [
    "if __name__ == \"__main__\":\n",
    "    main()"
   ]
  },
  {
   "cell_type": "code",
   "execution_count": null,
   "id": "af1b9bfc-aefb-425e-9ca1-7099789adf18",
   "metadata": {},
   "outputs": [],
   "source": []
  }
 ],
 "metadata": {
  "kernelspec": {
   "display_name": "Python 3 (ipykernel)",
   "language": "python",
   "name": "python3"
  },
  "language_info": {
   "codemirror_mode": {
    "name": "ipython",
    "version": 3
   },
   "file_extension": ".py",
   "mimetype": "text/x-python",
   "name": "python",
   "nbconvert_exporter": "python",
   "pygments_lexer": "ipython3",
   "version": "3.11.9"
  }
 },
 "nbformat": 4,
 "nbformat_minor": 5
}
