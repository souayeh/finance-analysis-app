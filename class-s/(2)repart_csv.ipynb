{
 "cells": [
  {
   "cell_type": "code",
   "execution_count": 1,
   "id": "adbd641f-24ed-40f2-a146-169e0ede29fd",
   "metadata": {},
   "outputs": [],
   "source": [
    "import pdfplumber\n",
    "import re\n",
    "import pandas as pd\n",
    "import os"
   ]
  },
  {
   "cell_type": "code",
   "execution_count": 2,
   "id": "8f87dac7-26a2-4a53-a6ed-336ba19e7f3b",
   "metadata": {},
   "outputs": [
    {
     "name": "stdout",
     "output_type": "stream",
     "text": [
      "Répartition des titres de capital de la Cote de la Bourse\n",
      "en compartiments et en groupes de cotation pour l’année 2025\n",
      "I- Conformément à la décision de la Bourse N° 1/6/2021 sur le compartimentage, telle que\n",
      "modifiée par décision du Conseil de la Bourse du 02 mai 2023, les émetteurs sont affectés aux\n",
      "compartiments du Marché Principal comme suit :\n",
      "(i) Le compartiment A inclut les émetteurs dont la capitalisation boursière est\n",
      "supérieure ou égale à 200 millions de dinars.\n",
      "(ii) Le compartiment B inclut les émetteurs dont la capitalisation boursière est\n",
      "inférieure à 200 millions de dinars.\n",
      "(iii) Le compartiment S (Sous Surveillance) inclut les émetteurs qui :\n",
      "a. ne respectent pas leurs obligations en matière d’information financière.\n",
      "b. sont touchés par des événements susceptibles de perturber durablement\n",
      "leur situation ou compromettre le bon fonctionnement du marché.\n",
      "La capitalisation boursière utilisée pour l’affectation aux compartiments A et B est la moyenne\n",
      "quotidienne des capitalisat\n"
     ]
    }
   ],
   "source": [
    "# Define PDF file path\n",
    "pdf_path = \"pdf/repartition_des_titres_2025.pdf\"  # Make sure this file is in your working directory\n",
    "\n",
    "# Extract text from the PDF\n",
    "with pdfplumber.open(pdf_path) as pdf:\n",
    "    raw_text = \"\\n\".join([page.extract_text() for page in pdf.pages if page.extract_text()])\n",
    "\n",
    "# Print a small part of the extracted text to check\n",
    "print(raw_text[:1000])  # Print first 1000 characters"
   ]
  },
  {
   "cell_type": "code",
   "execution_count": 3,
   "id": "c134fd98-9367-42c6-b768-78a9493f4a75",
   "metadata": {},
   "outputs": [
    {
     "name": "stdout",
     "output_type": "stream",
     "text": [
      "Number of sections found: 4\n",
      " « A »\n",
      "COMPARTIMENT « A »\n",
      "N° CODE ISIN MNEMO VALEUR GROUPE DE COTATION\n",
      "1 TN0001100254 SFBT SFBT 11 - Continu\n",
      "2 TN0001400704 SPDIT SPDIT - SICAF 11 - Continu\n",
      "3 TN0001600154 TJARI ATTIJARI BANK 11 - Continu\n",
      "4 TN0001800457 BIAT BIAT 11 - Continu\n",
      "5 TN0001900604 BH BH BANK 11 - Continu\n",
      "6 TN0002200053 BT BT 11 - Continu\n",
      "7 TN0002600955 STB STB 11 - Continu\n",
      "8 TN0003100609 BNA BNA 11 - Continu\n",
      "9 TN0003400058 AB AMEN BANK 11 - Continu\n",
      "10 TN0003600350 ATB ATB 11 - Continu\n",
      "11 TN0003900107 UIB UIB 11 - Conti\n"
     ]
    }
   ],
   "source": [
    "# Split the text into sections based on compartment listings\n",
    "compartiment_sections = re.split(r\"Liste des valeurs composant le compartiment\", raw_text)\n",
    "\n",
    "# Print how many sections were found\n",
    "print(f\"Number of sections found: {len(compartiment_sections)}\")\n",
    "\n",
    "# Print the first 500 characters of the first section to check structure\n",
    "print(compartiment_sections[1][:500])  # Print first part of section 1"
   ]
  },
  {
   "cell_type": "code",
   "execution_count": 4,
   "id": "7c12e165-4fe6-46de-bc9d-4dd4c6dc4f2e",
   "metadata": {},
   "outputs": [
    {
     "name": "stdout",
     "output_type": "stream",
     "text": [
      "Section 1: Found Compartment - A\n",
      "Section 2: Found Compartment - B\n",
      "Section 3: Found Compartment - S\n"
     ]
    }
   ],
   "source": [
    "# Loop through the sections and find the compartment type\n",
    "for i, section in enumerate(compartiment_sections[1:], start=1):  # Skip first (intro) section\n",
    "    match = re.search(r\"« (\\w) »\", section)\n",
    "    if match:\n",
    "        print(f\"Section {i}: Found Compartment - {match.group(1)}\")\n",
    "    else:\n",
    "        print(f\"Section {i}: No Compartment Found\")"
   ]
  },
  {
   "cell_type": "code",
   "execution_count": 5,
   "id": "657de1de-de8e-4054-88b5-b1f251a83bae",
   "metadata": {
    "scrolled": true
   },
   "outputs": [
    {
     "name": "stdout",
     "output_type": "stream",
     "text": [
      "### First 30 lines of section 1 ###\n",
      "1:  « B »\n",
      "2: COMPARTIMENT « B »\n",
      "3: N° CODE ISIN MNEMO VALEUR GROUPE DE COTATION\n",
      "4: 1 TN0002100907 TLS TUNISIE LEASING F 11 - Continu\n",
      "5: 2 TN0003200755 ICF ICF 11 - Continu\n",
      "6: 3 TN0004700100 ATL ATL 11 - Continu\n",
      "7: 4 TN0006530018 SOTET SOTETEL 11 - Continu\n",
      "8: 5 TN0006580013 MGR SOTUMAG 11 - Continu\n",
      "9: 6 TN0006590012 SIAME SIAME 11 - Continu\n",
      "10: 7 TN0006610018 TJL ATTIJARI LEASING 11 - Continu\n",
      "11: 8 TN0006660013 STPIL SOTRAPIL 11 - Continu\n",
      "12: 9 TN0007380017 TRE TUNIS RE 11 - Continu\n",
      "13: 10 TN0007510019 LNDOR LAND OR 11 - Continu\n",
      "14: 11 TN0007540016 NBL NEW BODY LINE 11 - Continu\n",
      "15: 12 TN0007570013 ECYCL EURO-CYCLES 11 - Continu\n",
      "16: 13 TN0007620016 MPBS MPBS 11 - Continu\n",
      "17: 14 TN0007630015 STPAP SOTIPAPIER 11 - Continu\n",
      "18: 15 TN0007740012 SAM ATELIER MEUBLE INT 11 - Continu\n",
      "19: 16 TNQPQXRODTH8 SMART SMART TUNISIE 11 - Continu\n",
      "20: 17 TNNGTFLC2986 STA STA 11 - Continu\n",
      "21: 18 TNDKJ8O68X14 AMV ASSU MAGHREBIA VIE 11 - Continu\n",
      "22: 19 TN0001000108 MNP MONOPRIX 12 - Fixing\n",
      "23: 20 TN0001300557 BTE BTE (ADP) 12 - Fixing\n",
      "24: 21 TN0002300358 AL AIR LIQUIDE TSIE 12 - Fixing\n",
      "25: 22 TN0002500650 PLTU PLAC. TSIE-SICAF 12 - Fixing\n"
     ]
    }
   ],
   "source": [
    "# Print the first 30 lines of the first compartment section to inspect formatting\n",
    "lines = compartiment_sections[2].split(\"\\n\")\n",
    "\n",
    "print(\"### First 30 lines of section 1 ###\")\n",
    "for i, line in enumerate(lines[:25]):\n",
    "    print(f\"{i+1}: {line}\")"
   ]
  },
  {
   "cell_type": "code",
   "execution_count": 6,
   "id": "751958d8-9b3b-4e0c-bc7b-7a9b4948528e",
   "metadata": {
    "scrolled": true
   },
   "outputs": [
    {
     "name": "stdout",
     "output_type": "stream",
     "text": [
      "\n",
      "#### Compartiment A ####\n",
      "['1', 'TN0001100254', 'SFBT', 'SFBT', '11 - Continu']\n",
      "['2', 'TN0001400704', 'SPDIT', 'SPDIT - SICAF', '11 - Continu']\n",
      "['3', 'TN0001600154', 'TJARI', 'ATTIJARI BANK', '11 - Continu']\n",
      "['4', 'TN0001800457', 'BIAT', 'BIAT', '11 - Continu']\n",
      "['5', 'TN0001900604', 'BH', 'BH BANK', '11 - Continu']\n",
      "['6', 'TN0002200053', 'BT', 'BT', '11 - Continu']\n",
      "['7', 'TN0002600955', 'STB', 'STB', '11 - Continu']\n",
      "['8', 'TN0003100609', 'BNA', 'BNA', '11 - Continu']\n",
      "['9', 'TN0003400058', 'AB', 'AMEN BANK', '11 - Continu']\n",
      "['10', 'TN0003600350', 'ATB', 'ATB', '11 - Continu']\n",
      "['11', 'TN0003900107', 'UIB', 'UIB', '11 - Continu']\n",
      "['12', 'TN0005700018', 'PGH', 'POULINA GP HOLDING', '11 - Continu']\n",
      "['13', 'TN0006560015', 'SOTUV', 'SOTUVER', '11 - Continu']\n",
      "['14', 'TN0007200017', 'WIFAK', 'WIFACK INT BANK', '11 - Continu']\n",
      "['15', 'TN0007270010', 'TPR', 'TPR', '11 - Continu']\n",
      "['16', 'TN0007300015', 'ARTES', 'ARTES', '11 - Continu']\n",
      "['17', 'TN0007400013', 'CC', 'CARTHAGE CEMENT', '11 - Continu']\n",
      "['18', 'TN0007410012', 'NAKL', 'ENNAKL AUTOMOBILES', '11 - Continu']\n",
      "['19', 'TN0007530017', 'OTH', 'ONE TECH HOLDING', '11 - Continu']\n",
      "['20', 'TN0007550015', 'CITY', 'CITY CARS', '11 - Continu']\n",
      "\n",
      "#### Compartiment B ####\n",
      "['1', 'TN0002100907', 'TLS', 'TUNISIE LEASING F', '11 - Continu']\n",
      "['2', 'TN0003200755', 'ICF', 'ICF', '11 - Continu']\n",
      "['3', 'TN0004700100', 'ATL', 'ATL', '11 - Continu']\n",
      "['4', 'TN0006530018', 'SOTET', 'SOTETEL', '11 - Continu']\n",
      "['5', 'TN0006580013', 'MGR', 'SOTUMAG', '11 - Continu']\n",
      "['6', 'TN0006590012', 'SIAME', 'SIAME', '11 - Continu']\n",
      "['7', 'TN0006610018', 'TJL', 'ATTIJARI LEASING', '11 - Continu']\n",
      "['8', 'TN0006660013', 'STPIL', 'SOTRAPIL', '11 - Continu']\n",
      "['9', 'TN0007380017', 'TRE', 'TUNIS RE', '11 - Continu']\n",
      "['10', 'TN0007510019', 'LNDOR', 'LAND OR', '11 - Continu']\n",
      "['11', 'TN0007540016', 'NBL', 'NEW BODY LINE', '11 - Continu']\n",
      "['12', 'TN0007570013', 'ECYCL', 'EURO-CYCLES', '11 - Continu']\n",
      "['13', 'TN0007620016', 'MPBS', 'MPBS', '11 - Continu']\n",
      "['14', 'TN0007630015', 'STPAP', 'SOTIPAPIER', '11 - Continu']\n",
      "['15', 'TN0007740012', 'SAM', 'ATELIER MEUBLE INT', '11 - Continu']\n",
      "['16', 'TNQPQXRODTH8', 'SMART', 'SMART TUNISIE', '11 - Continu']\n",
      "['17', 'TNNGTFLC2986', 'STA', 'STA', '11 - Continu']\n",
      "['18', 'TNDKJ8O68X14', 'AMV', 'ASSU MAGHREBIA VIE', '11 - Continu']\n",
      "['19', 'TN0001000108', 'MNP', 'MONOPRIX', '12 - Fixing']\n",
      "['20', 'TN0001300557', 'BTE', 'BTE (ADP)', '12 - Fixing']\n",
      "\n",
      "#### Compartiment S ####\n",
      "['1', 'TN0001200401', 'TAIR', 'TUNISAIR', '99 - Fixing']\n",
      "['2', 'TN0003800703', 'ALKIM', 'ALKIMIA', '99 - Fixing']\n",
      "['3', 'TN0005030010', 'STIP', 'STIP', '99 - Fixing']\n",
      "['4', 'TN0006670012', 'SIPHA', 'SIPHAT', '99 - Fixing']\n",
      "['5', 'TN0006780019', 'SOMOC', 'SOMOCER', '99 - Fixing']\n",
      "['6', 'TN0007140015', 'ASSAD', 'ASSAD', '99 - Fixing']\n",
      "['7', 'TN0007350010', 'SCB', 'CIMENTS DE BIZERTE', '99 - Fixing']\n",
      "['8', 'TN0007440019', 'TLNET', 'TELNET HOLDING', '99 - Fixing']\n",
      "['9', 'TN0007500010', 'AETEC', 'AETECH', '99 - Fixing']\n",
      "['10', 'TN0007600018', 'SOTEM', 'SOTEMAIL', '99 - Fixing']\n",
      "['11', 'TN0007650013', 'TGH', 'TAWASOL GP HOLDING', '99 - Fixing']\n",
      "['12', 'TN0007690019', 'UADH', 'UADH', '99 - Fixing']\n",
      "['13', 'TN0007730013', 'SMD', 'SANIMED', '99 - Fixing']\n"
     ]
    }
   ],
   "source": [
    "# FINAL FIX: Separate MNEMO and VALEUR correctly\n",
    "tables_dict = {}\n",
    "\n",
    "for i, section in enumerate(compartiment_sections[1:], start=1):\n",
    "    lines = section.split(\"\\n\")\n",
    "\n",
    "    # Identify compartment type\n",
    "    match = re.search(r\"« (\\w) »\", lines[0])\n",
    "    compartment_type = match.group(1) if match else f\"Unknown {i}\"\n",
    "\n",
    "    # Extract table rows\n",
    "    extracted_data = []\n",
    "    for line in lines:\n",
    "        parts = line.split()  # Split by whitespace\n",
    "        \n",
    "        # Ensure row contains ISIN\n",
    "        if len(parts) >= 5 and re.match(r\"TN[A-Z0-9]+\", parts[1]):    \n",
    "            n = parts[0]  # First column is always the number\n",
    "            isin = parts[1]  # Second column is always the ISIN\n",
    "            mnemo = parts[2]  # Third column is always the MNEMO (Ticker)\n",
    "\n",
    "            # Find where 'GROUPE DE COTATION' starts\n",
    "            for j in range(3, len(parts)):  # Start from index 3 (after MNEMO)\n",
    "                if parts[j].isdigit():  # Find first pure number (11, 12, 99, etc.)\n",
    "                    valeur = \" \".join(parts[3:j])  # Everything after MNEMO but before the number\n",
    "                    group = \" \".join(parts[j:])  # Everything after the number\n",
    "                    extracted_data.append([n, isin, mnemo, valeur, group])\n",
    "                    break  # Stop at the first valid match\n",
    "\n",
    "    # Store in dictionary\n",
    "    if extracted_data:\n",
    "        tables_dict[compartment_type] = extracted_data\n",
    "\n",
    "# Print preview\n",
    "for key, rows in tables_dict.items():\n",
    "    print(f\"\\n#### Compartiment {key} ####\")\n",
    "    for row in rows[:20]:  # Print first 5 rows\n",
    "        print(row)"
   ]
  },
  {
   "cell_type": "code",
   "execution_count": 7,
   "id": "a981df8b-b267-4cbe-9c82-b09c4a71371a",
   "metadata": {
    "scrolled": true
   },
   "outputs": [
    {
     "name": "stdout",
     "output_type": "stream",
     "text": [
      "✅ All CSV files have been saved in the 'csv' folder.\n"
     ]
    }
   ],
   "source": [
    "# Define the directory where the CSV files will be saved\n",
    "csv_directory = \"csv\"\n",
    "\n",
    "# Ensure the directory exists\n",
    "os.makedirs(csv_directory, exist_ok=True)\n",
    "\n",
    "# Convert extracted tables into Pandas DataFrames and save them in the \"csv\" folder\n",
    "dataframes = {}\n",
    "\n",
    "for key, data in tables_dict.items():\n",
    "    df = pd.DataFrame(data, columns=[\"N°\", \"CODE ISIN\", \"MNEMO\", \"VALEUR\", \"GROUPE DE COTATION\"])\n",
    "    dataframes[key] = df  # Store DataFrame\n",
    "\n",
    "    # Define the file path\n",
    "    csv_filename = os.path.join(csv_directory, f\"repartition_{key}.csv\")\n",
    "\n",
    "    # Save each table as a CSV file inside the \"csv\" folder\n",
    "    df.to_csv(csv_filename, index=False, encoding=\"utf-8\")\n",
    "\n",
    "print(f\"✅ All CSV files have been saved in the '{csv_directory}' folder.\")"
   ]
  }
 ],
 "metadata": {
  "kernelspec": {
   "display_name": "Python 3 (ipykernel)",
   "language": "python",
   "name": "python3"
  },
  "language_info": {
   "codemirror_mode": {
    "name": "ipython",
    "version": 3
   },
   "file_extension": ".py",
   "mimetype": "text/x-python",
   "name": "python",
   "nbconvert_exporter": "python",
   "pygments_lexer": "ipython3",
   "version": "3.11.9"
  }
 },
 "nbformat": 4,
 "nbformat_minor": 5
}
