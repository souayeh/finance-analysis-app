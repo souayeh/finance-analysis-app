{
 "cells": [
  {
   "cell_type": "code",
   "execution_count": 1,
   "id": "943a80bd-67eb-405e-bad2-406e76ead435",
   "metadata": {},
   "outputs": [],
   "source": [
    "search_url = \"https://www.bvmt.com.tn/fr/search/node/R%C3%A9partition%20des%20titres%20de%20capital%20de%20la%20Cote%20de%20la%20Bourse%20en%20compartiments%20et%20en%20groupes%20de%20cotation%20pour%20l%E2%80%99ann%C3%A9e\""
   ]
  },
  {
   "cell_type": "code",
   "execution_count": 2,
   "id": "ad6e6e0a-a10d-4d11-bfef-559252d9c7f5",
   "metadata": {},
   "outputs": [],
   "source": [
    "import requests\n",
    "from bs4 import BeautifulSoup\n",
    "import re\n",
    "import os"
   ]
  },
  {
   "cell_type": "code",
   "execution_count": 3,
   "id": "2dcb24dc-b510-4126-b9e4-0694d9a1d927",
   "metadata": {},
   "outputs": [],
   "source": [
    "response = requests.get(search_url)\n",
    "if response.status_code == 200:\n",
    "    html_content = response.text\n",
    "else:\n",
    "    print(f\"Failed to fetch page. Status code: {response.status_code}\")"
   ]
  },
  {
   "cell_type": "code",
   "execution_count": 4,
   "id": "1b0f69c1-e45f-407d-b529-ec3ea660688c",
   "metadata": {},
   "outputs": [
    {
     "name": "stdout",
     "output_type": "stream",
     "text": [
      "✅ Most Recent Year: 2025\n",
      "🔗 Latest Report Link: https://www.bvmt.com.tn/fr/content/r%C3%A9partition-des-titres-de-capital-de-la-cote-de-la-bourse-en-compartiments-et-en-groupes-d-2\n"
     ]
    }
   ],
   "source": [
    "soup = BeautifulSoup(response.text, 'html.parser')\n",
    "\n",
    "# Step 2: Find the Most Recent Report Automatically\n",
    "search_results = soup.find_all('li', class_='search-result')\n",
    "\n",
    "latest_year = 0\n",
    "latest_report_link = None\n",
    "\n",
    "for result in search_results:\n",
    "    title = result.find('a').text.strip()  # Extract title\n",
    "    link = result.find('a')['href']  # Extract link\n",
    "\n",
    "    # Ensure the link is correctly formatted\n",
    "    if not link.startswith(\"http\"):\n",
    "        link = \"https://www.bvmt.com.tn\" + link\n",
    "\n",
    "    # Extract the year from the title using regex\n",
    "    match = re.search(r'\\b(20\\d{2})\\b', title)  # Looks for a year like 2024, 2025, etc.\n",
    "    if match:\n",
    "        year = int(match.group(1))  # Convert extracted year to an integer\n",
    "\n",
    "        # Update latest year and link if the found year is newer\n",
    "        if year > latest_year:\n",
    "            latest_year = year\n",
    "            latest_report_link = link\n",
    "\n",
    "# Step 3: Print the Most Recent Report Found\n",
    "if latest_report_link:\n",
    "    print(f\"✅ Most Recent Year: {latest_year}\")\n",
    "    print(f\"🔗 Latest Report Link: {latest_report_link}\")\n",
    "else:\n",
    "    print(\"❌ No valid report found.\")"
   ]
  },
  {
   "cell_type": "code",
   "execution_count": 5,
   "id": "2371a686-bf64-4c86-ac33-8fa2151df966",
   "metadata": {},
   "outputs": [
    {
     "name": "stdout",
     "output_type": "stream",
     "text": [
      "✅ Correct PDF Link: https://www.bvmt.com.tn/sites/default/files/avis-decisions/repartition-des-titres-de-capital-de-la-cote-de-la-bourse-en-compartiments-et-en-groupes-de-cotation.pdf\n"
     ]
    }
   ],
   "source": [
    "# Step 1: Access the initial page\n",
    "initial_page_url = latest_report_link\n",
    "response = requests.get(initial_page_url)\n",
    "soup = BeautifulSoup(response.text, 'html.parser')\n",
    "\n",
    "# Step 2: Find all links and search for a .pdf link\n",
    "pdf_link_tag = None\n",
    "\n",
    "for link in soup.find_all('a', href=True):\n",
    "    if \".pdf\" in link['href']:\n",
    "        pdf_link_tag = link\n",
    "        break  # Stop at the first PDF link found\n",
    "\n",
    "# Step 3: Extract and format the PDF link\n",
    "if pdf_link_tag:\n",
    "    pdf_url = pdf_link_tag['href']\n",
    "\n",
    "    # Ensure the link is complete\n",
    "    if not pdf_url.startswith(\"http\"):\n",
    "        pdf_url = \"https://www.bvmt.com.tn\" + pdf_url\n",
    "\n",
    "    print(f\"✅ Correct PDF Link: {pdf_url}\")\n",
    "else:\n",
    "    print(\"❌ No PDF link found on the page.\")"
   ]
  },
  {
   "cell_type": "code",
   "execution_count": 6,
   "id": "95391888-eeb7-432f-8d61-c8919e1fcd29",
   "metadata": {},
   "outputs": [
    {
     "name": "stdout",
     "output_type": "stream",
     "text": [
      "✅ PDF downloaded successfully: pdf\\repartition_des_titres_2025.pdf\n"
     ]
    }
   ],
   "source": [
    "# Define the directory where the PDF will be saved\n",
    "pdf_directory = \"pdf\"\n",
    "\n",
    "# Ensure the directory exists\n",
    "os.makedirs(pdf_directory, exist_ok=True)\n",
    "\n",
    "# Define the local filename with the path\n",
    "pdf_filename = os.path.join(pdf_directory, \"repartition_des_titres_2025.pdf\")\n",
    "\n",
    "# Download the PDF\n",
    "response = requests.get(pdf_url)\n",
    "\n",
    "# Save the PDF in the specified directory\n",
    "with open(pdf_filename, \"wb\") as file:\n",
    "    file.write(response.content)\n",
    "\n",
    "print(f\"✅ PDF downloaded successfully: {pdf_filename}\")"
   ]
  },
  {
   "cell_type": "code",
   "execution_count": null,
   "id": "8b3a3b81-11cc-41de-b129-802aeb50756a",
   "metadata": {},
   "outputs": [],
   "source": []
  }
 ],
 "metadata": {
  "kernelspec": {
   "display_name": "Python 3 (ipykernel)",
   "language": "python",
   "name": "python3"
  },
  "language_info": {
   "codemirror_mode": {
    "name": "ipython",
    "version": 3
   },
   "file_extension": ".py",
   "mimetype": "text/x-python",
   "name": "python",
   "nbconvert_exporter": "python",
   "pygments_lexer": "ipython3",
   "version": "3.11.9"
  }
 },
 "nbformat": 4,
 "nbformat_minor": 5
}
