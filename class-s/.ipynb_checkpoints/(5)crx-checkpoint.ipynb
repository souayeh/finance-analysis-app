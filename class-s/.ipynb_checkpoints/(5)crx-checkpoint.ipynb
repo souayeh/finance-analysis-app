{
 "cells": [
  {
   "cell_type": "code",
   "execution_count": 1,
   "id": "1d315698-98c7-40e1-8752-b18ca410f6dd",
   "metadata": {},
   "outputs": [],
   "source": [
    "import pandas as pd\n",
    "import numpy as np\n",
    "from sklearn.feature_extraction.text import TfidfVectorizer\n",
    "from sklearn.metrics.pairwise import cosine_similarity\n",
    "from fuzzywuzzy import fuzz\n",
    "\n",
    "def combined_similarity(name1, name2, vectorizer):\n",
    "    cosine_sim = cosine_similarity(vectorizer.transform([name1]), vectorizer.transform([name2]))[0][0]\n",
    "    levenshtein_sim = fuzz.ratio(name1.lower(), name2.lower()) / 100.0\n",
    "    jaccard_sim = len(set(name1.lower()).intersection(set(name2.lower()))) / len(set(name1.lower()).union(set(name2.lower())))\n",
    "    return (0.5 * cosine_sim) + (0.3 * levenshtein_sim) + (0.2 * jaccard_sim)\n",
    "\n",
    "def match_lists(valeur_list1, valeur_list2, threshold):\n",
    "    vectorizer = TfidfVectorizer(analyzer='char', ngram_range=(2, 4))\n",
    "    tfidf_matrix1 = vectorizer.fit_transform(valeur_list1)\n",
    "    tfidf_matrix2 = vectorizer.transform(valeur_list2)\n",
    "    \n",
    "    best_matches = []\n",
    "    matched_set = set()\n",
    "    all_match_scores = []\n",
    "\n",
    "    # Compute all match scores first\n",
    "    for company1 in valeur_list1:\n",
    "        for company2 in valeur_list2:\n",
    "            score = combined_similarity(company1, company2, vectorizer)\n",
    "            all_match_scores.append((company1, company2, score))\n",
    "\n",
    "    # Sort by similarity score descending to ensure best matches are assigned first\n",
    "    all_match_scores.sort(key=lambda x: x[2], reverse=True)\n",
    "\n",
    "    # Assign matches based on the best scores\n",
    "    for company1, company2, score in all_match_scores:\n",
    "        if score >= threshold and company1 not in matched_set and company2 not in matched_set:\n",
    "            best_matches.append((company1, company2, score))\n",
    "            matched_set.add(company1)\n",
    "            matched_set.add(company2)\n",
    "\n",
    "    # Convert to DataFrame\n",
    "    best_matches_df = pd.DataFrame(best_matches, columns=[\"Company (List 1)\", \"Best Match (List 2)\", \"Similarity Score\"])\n",
    "\n",
    "    # Identify remaining unmatched companies\n",
    "    unmatched_list1 = [company for company in valeur_list1 if company not in matched_set]\n",
    "    unmatched_list2 = [company for company in valeur_list2 if company not in matched_set]\n",
    "\n",
    "    print(\"Best Matched Companies and Their Scores:\")\n",
    "    print(best_matches_df)\n",
    "    print(\"\\nUnmatched Companies from List 1:\")\n",
    "    print(unmatched_list1)\n",
    "    print(\"\\nUnmatched Companies from List 2:\")\n",
    "    print(unmatched_list2)\n",
    "\n",
    "    return best_matches_df, unmatched_list1, unmatched_list2\n",
    "\n",
    "def remove_high_similarity(df, threshold=0.55):\n",
    "    \"\"\"\n",
    "    Removes rows from the DataFrame where the similarity score is above the given threshold.\n",
    "    \"\"\"\n",
    "    df_filtered = df[df[\"Similarity Score\"] <= threshold]\n",
    "    return df_filtered\n",
    "\n",
    "def concat_and_save_csv(df1, df2, filename=\"merged_matches.csv\"):\n",
    "    \"\"\"\n",
    "    Concatenates two DataFrames, keeps only 'Company' and 'Best Match' columns, and saves to CSV with column names in uppercase.\n",
    "    \"\"\"\n",
    "    merged_df = pd.concat([df1[[\"Company (List 1)\", \"Best Match (List 2)\"]], df2[[\"Company (List 1)\", \"Best Match (List 2)\"]]])\n",
    "    merged_df.columns = [\"COMPANY\", \"BEST MATCH\"]\n",
    "    merged_df.to_csv(filename, index=False)\n",
    "    print(f\"Merged DataFrame saved as {filename}\")"
   ]
  },
  {
   "cell_type": "code",
   "execution_count": 2,
   "id": "eec91443-b3d8-4192-ad44-ba7708ca1ecf",
   "metadata": {},
   "outputs": [],
   "source": [
    "import pandas as pd\n",
    "\n",
    "# Load both CSV files\n",
    "file1_path = 'csv/continu.csv'\n",
    "file2_path = 'csv/fixing.csv'\n",
    "file3_path = 'csv/repartition_S.csv'\n",
    "\n",
    "df1 = pd.read_csv(file1_path)\n",
    "df2 = pd.read_csv(file2_path)\n",
    "df3 = pd.read_csv(file3_path)\n",
    "\n",
    "# Extract the \"valeur\" column from both dataframes and concatenate them into a single list\n",
    "valeur_list1 = df1[\"VALEUR\"].tolist() + df2[\"VALEUR\"].tolist() + df3[\"VALEUR\"].tolist()"
   ]
  },
  {
   "cell_type": "code",
   "execution_count": 3,
   "id": "24bf8922-4583-4b9b-bfaf-e768ed4c9abd",
   "metadata": {},
   "outputs": [],
   "source": [
    "# Load the CSV file\n",
    "file_path = \"csv/companies_sectors.csv\"  # Change this if needed\n",
    "df = pd.read_csv(file_path)\n",
    "\n",
    "# Remove rows where the sector is 'HORS COTE'\n",
    "df = df[df['SECTOR'] != 'Hors Cote'] \n",
    "\n",
    "# Save the filtered DataFrame back to a new CSV file\n",
    "df.to_csv(file_path, index=False)\n",
    "\n",
    "# Extract the \"valeur\" column and convert it to a list\n",
    "valeur_list2 = df[\"VALEUR\"].tolist()"
   ]
  },
  {
   "cell_type": "code",
   "execution_count": 4,
   "id": "4def4959-3dd9-4911-b642-9c00f74c06a5",
   "metadata": {
    "scrolled": true
   },
   "outputs": [
    {
     "name": "stdout",
     "output_type": "stream",
     "text": [
      "Best Matched Companies and Their Scores:\n",
      "      Company (List 1) Best Match (List 2)  Similarity Score\n",
      "0                  TPR                 TPR          1.000000\n",
      "1      CARTHAGE CEMENT     CARTHAGE CEMENT          1.000000\n",
      "2               UNIMED              UNIMED          1.000000\n",
      "3          EURO-CYCLES         EURO-CYCLES          1.000000\n",
      "4           SOTIPAPIER          SOTIPAPIER          1.000000\n",
      "..                 ...                 ...               ...\n",
      "69                 SAH           SAH LILAS          0.522609\n",
      "70    PLAC. TSIE-SICAF  PLACEM. DE TUNISIE          0.441454\n",
      "71                 ICF              I.C.F.          0.351000\n",
      "72             BH BANK                  BH          0.329752\n",
      "73  ATELIER MEUBLE INT                 SAM          0.090333\n",
      "\n",
      "[74 rows x 3 columns]\n",
      "\n",
      "Unmatched Companies from List 1:\n",
      "[]\n",
      "\n",
      "Unmatched Companies from List 2:\n",
      "[]\n"
     ]
    }
   ],
   "source": [
    "# Define two lists of company names\n",
    "list1 = valeur_list1\n",
    "list2 = valeur_list2\n",
    "\n",
    "# Call the function\n",
    "best_matches_df, unmatched_list1, unmatched_list2 = match_lists(list1, list2, threshold=0)"
   ]
  },
  {
   "cell_type": "code",
   "execution_count": 5,
   "id": "d58e0b3e-ff9b-4423-8ae1-a90a7448bf03",
   "metadata": {},
   "outputs": [
    {
     "name": "stdout",
     "output_type": "stream",
     "text": [
      "Merged DataFrame saved as csv/crx.csv\n"
     ]
    }
   ],
   "source": [
    "filename=\"csv/crx.csv\"\n",
    "merged_df = best_matches_df[[\"Company (List 1)\", \"Best Match (List 2)\"]]\n",
    "merged_df.columns = [\"COMPANY\", \"BEST MATCH\"]\n",
    "merged_df.to_csv(filename, index=False)\n",
    "print(f\"Merged DataFrame saved as {filename}\")"
   ]
  },
  {
   "cell_type": "code",
   "execution_count": null,
   "id": "cf1c9d01-0992-476e-9a5c-3f89a2c6596d",
   "metadata": {},
   "outputs": [],
   "source": []
  }
 ],
 "metadata": {
  "kernelspec": {
   "display_name": "Python 3 (ipykernel)",
   "language": "python",
   "name": "python3"
  },
  "language_info": {
   "codemirror_mode": {
    "name": "ipython",
    "version": 3
   },
   "file_extension": ".py",
   "mimetype": "text/x-python",
   "name": "python",
   "nbconvert_exporter": "python",
   "pygments_lexer": "ipython3",
   "version": "3.11.9"
  }
 },
 "nbformat": 4,
 "nbformat_minor": 5
}
